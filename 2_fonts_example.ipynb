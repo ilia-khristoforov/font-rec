{
  "cells": [
    {
      "attachments": {},
      "cell_type": "markdown",
      "metadata": {
        "id": "YjgfU1QCHvQT"
      },
      "source": [
        "# Необходимые модули "
      ]
    },
    {
      "cell_type": "code",
      "execution_count": 1,
      "metadata": {
        "id": "hUkBRdY8ndhZ",
        "scrolled": true
      },
      "outputs": [
        {
          "name": "stderr",
          "output_type": "stream",
          "text": [
            "2023-06-01 20:59:21.825171: I tensorflow/tsl/cuda/cudart_stub.cc:28] Could not find cuda drivers on your machine, GPU will not be used.\n",
            "2023-06-01 20:59:22.174230: I tensorflow/tsl/cuda/cudart_stub.cc:28] Could not find cuda drivers on your machine, GPU will not be used.\n",
            "2023-06-01 20:59:22.175790: I tensorflow/core/platform/cpu_feature_guard.cc:182] This TensorFlow binary is optimized to use available CPU instructions in performance-critical operations.\n",
            "To enable the following instructions: AVX2 FMA, in other operations, rebuild TensorFlow with the appropriate compiler flags.\n",
            "2023-06-01 20:59:24.400075: W tensorflow/compiler/tf2tensorrt/utils/py_utils.cc:38] TF-TRT Warning: Could not find TensorRT\n"
          ]
        }
      ],
      "source": [
        "from matplotlib.pyplot import imshow\n",
        "import matplotlib.cm as cm\n",
        "import matplotlib.pylab as plt\n",
        "from keras.preprocessing.image import ImageDataGenerator\n",
        "import numpy as np\n",
        "import PIL\n",
        "from PIL import ImageFilter\n",
        "import cv2\n",
        "import itertools\n",
        "import random\n",
        "import keras\n",
        "import imutils\n",
        "from imutils import paths\n",
        "import os\n",
        "from keras import optimizers\n",
        "from keras.utils.image_utils import img_to_array\n",
        "from sklearn.model_selection import train_test_split\n",
        "from keras.utils import to_categorical\n",
        "from keras import callbacks\n",
        "from keras.models import Sequential\n",
        "from keras.layers.normalization.batch_normalization import BatchNormalization\n",
        "from keras.layers import Dense, Dropout, Flatten\n",
        "from keras.layers import Conv2D, MaxPooling2D , UpSampling2D ,Conv2DTranspose\n",
        "from keras import backend as K\n",
        "from PIL import Image, ImageDraw, ImageFont\n",
        "import string\n",
        "import random\n",
        "\n",
        "%matplotlib inline"
      ]
    },
    {
      "attachments": {},
      "cell_type": "markdown",
      "metadata": {
        "id": "1hbTCU2qndht"
      },
      "source": [
        "\n",
        "\n",
        "# Функции для изменения изображений \n",
        "1) шум\n",
        "2) блюр\n",
        "3) вращение\n",
        "4) затемнение\n",
        "5) разное расстояние между символами\n",
        "6) разное соотношение сторон"
      ]
    },
    {
      "cell_type": "code",
      "execution_count": 2,
      "metadata": {
        "id": "MLCHbBKsndhv"
      },
      "outputs": [],
      "source": [
        "def noise_image(pil_im):\n",
        "    # Adding Noise to image\n",
        "    img_array = np.asarray(pil_im)\n",
        "    mean = 0.0   # some constant\n",
        "    std = 5   # some constant (standard deviation)\n",
        "    noisy_img = img_array + np.random.normal(mean, std, img_array.shape)\n",
        "    noisy_img_clipped = np.clip(noisy_img, 0, 255)\n",
        "    noise_img = PIL.Image.fromarray(np.uint8(noisy_img_clipped)) # output\n",
        "    #imshow((noisy_img_clipped ).astype(np.uint8))\n",
        "    noise_img=noise_img.resize((105,105))\n",
        "    return noise_img"
      ]
    },
    {
      "cell_type": "code",
      "execution_count": 3,
      "metadata": {
        "id": "5TPvDBV5ndh2"
      },
      "outputs": [],
      "source": [
        "def blur_image(pil_im):\n",
        "    #Adding Blur to image \n",
        "    blur_img = pil_im.filter(ImageFilter.GaussianBlur(radius=3)) # ouput\n",
        "    #imshow(blur_img)\n",
        "    blur_img=blur_img.resize((105,105))\n",
        "    return blur_img"
      ]
    },
    {
      "cell_type": "code",
      "execution_count": 4,
      "metadata": {
        "id": "CIDSvv7Qndh6"
      },
      "outputs": [],
      "source": [
        "def affine_rotation(img):\n",
        "    \n",
        "    #img=cv2.imread(img_path,0)\n",
        "    rows, columns = img.shape\n",
        "\n",
        "    point1 = np.float32([[10, 10], [30, 10], [10, 30]])\n",
        "    point2 = np.float32([[20, 15], [40, 10], [20, 40]])\n",
        "\n",
        "    A = cv2.getAffineTransform(point1, point2)\n",
        "\n",
        "    output = cv2.warpAffine(img, A, (columns, rows))\n",
        "    affine_img = PIL.Image.fromarray(np.uint8(output)) # affine rotated output\n",
        "    #imshow(output)\n",
        "    affine_img=affine_img.resize((105,105))\n",
        "    return affine_img\n",
        "   "
      ]
    },
    {
      "cell_type": "code",
      "execution_count": 5,
      "metadata": {
        "id": "VCy6ReUNndh_"
      },
      "outputs": [],
      "source": [
        "def gradient_fill(image):\n",
        "    #image=cv2.imread(img_path,0)\n",
        "    laplacian = cv2.Laplacian(image,cv2.CV_64F)\n",
        "    laplacian = cv2.resize(laplacian, (105, 105))\n",
        "    return laplacian"
      ]
    },
    {
      "attachments": {},
      "cell_type": "markdown",
      "metadata": {
        "id": "OBLjVHT9ndiF"
      },
      "source": [
        "## Preparing Dataset\n",
        "\n",
        "Ниже представлены методы для создания датасета. Используются два шрифта Arial и Times New Roman. Создаётся строка из случайных символов (буквы и цифры), далее создаётся картинка с этой строкой. Возможно создать датасет любого размера. Легко добавить новые шрифты."
      ]
    },
    {
      "cell_type": "code",
      "execution_count": 7,
      "metadata": {
        "id": "k9fcz-eDr1GZ"
      },
      "outputs": [],
      "source": [
        "## Functions for generating dataset (images containing couple of random characters in desired font)\n",
        "\n",
        "def string_gen(size=6, chars=string.ascii_uppercase + string.digits + string.ascii_lowercase):\n",
        "    \"\"\"\n",
        "    generates string containing random characters (letters & numbers)\n",
        "    \"\"\"\n",
        "    return ''.join(random.choice(chars) for _ in range(size))\n",
        "\n",
        "def img_gen(font_name, string):\n",
        "    \"\"\"\n",
        "    generates an image with desired font and string\n",
        "    \"\"\"\n",
        "    img = Image.new('RGB', (105,105), color = (255, 255, 255))\n",
        "    font = ImageFont.truetype(f'fonts/{font_name}.ttf', 80)\n",
        "    d = ImageDraw.Draw(img)\n",
        "    d.text((10,10), string, font=font, fill=(0, 0, 0))\n",
        "    img.save(f'font_imgs/{font_name}/{string}.jpg')\n",
        "\n",
        "def gen_dataset(fonts, amount = 10):\n",
        "    \"\"\"\n",
        "    Used to create large dataset of images with random strings for any amount of fonts we need\n",
        "    \"\"\"\n",
        "    amount = amount * len(fonts)\n",
        "    while amount != 0:\n",
        "        for font in fonts:\n",
        "            img_gen(font, string_gen())\n",
        "            amount -= 1\n",
        "    print('samples are ready!')\n",
        "\n",
        "def pil_image(img_path):\n",
        "    pil_im =PIL.Image.open(img_path).convert('L')\n",
        "    pil_im=pil_im.resize((105,105))\n",
        "    #imshow(np.asarray(pil_im))\n",
        "    return pil_im"
      ]
    },
    {
      "cell_type": "code",
      "execution_count": 8,
      "metadata": {
        "colab": {
          "base_uri": "https://localhost:8080/"
        },
        "id": "6hc1RAaVndiI",
        "outputId": "0765ad39-8238-46d2-f09a-4c026bf7bc01"
      },
      "outputs": [
        {
          "name": "stdout",
          "output_type": "stream",
          "text": [
            "samples are ready!\n"
          ]
        }
      ],
      "source": [
        "## generating dataset for 2 fonts 100 samples each and making shuffled image paths for further splitting\n",
        "fonts = ['times_new_roman', 'arial']\n",
        "# os.mkdir('fonts/')\n",
        "# os.mkdir('font_imgs/')\n",
        "# for font in fonts:\n",
        "#   os.mkdir(f'font_imgs/{font}/')\n",
        "gen_dataset(fonts, 100)\n",
        "\n",
        "data_path = \"font_imgs/\"\n",
        "data=[]\n",
        "labels=[]\n",
        "imagePaths = sorted(list(paths.list_images(data_path)))\n",
        "random.seed(42)\n",
        "random.shuffle(imagePaths)"
      ]
    },
    {
      "cell_type": "code",
      "execution_count": 9,
      "metadata": {
        "id": "HYYzr_c1ndiN"
      },
      "outputs": [],
      "source": [
        "## Functions for labelling and reversed labelling\n",
        "\n",
        "def conv_label(label):\n",
        "    if label == 'arial':\n",
        "        return 0\n",
        "    elif label == 'times_new_roman':\n",
        "        return 1\n",
        "\n",
        "def rev_conv_label(label):\n",
        "    if label == 0 :\n",
        "        return 'Arial'\n",
        "    elif label == 1:\n",
        "        return 'Times New Roman'\n",
        "\n"
      ]
    },
    {
      "cell_type": "code",
      "execution_count": 11,
      "metadata": {
        "colab": {
          "base_uri": "https://localhost:8080/"
        },
        "id": "L5emmKqjd-3Q",
        "outputId": "112c7ea1-0c61-4387-f1e5-aeb5db392d5e"
      },
      "outputs": [
        {
          "name": "stdout",
          "output_type": "stream",
          "text": [
            "['noise', 'affine', 'gradient']\n"
          ]
        }
      ],
      "source": [
        "augument=[\"noise\",\"affine\",\"gradient\"]\n",
        "a=itertools.combinations(augument, 3)\n",
        "\n",
        "for i in list(a): \n",
        "    print(list(i))"
      ]
    },
    {
      "attachments": {},
      "cell_type": "markdown",
      "metadata": {
        "id": "ymxRLf8S8MdM"
      },
      "source": [
        "Изменим картинки в датасете с помощью эффектов, подобранных случайным образом из списка эффектов. Это поможет лучше натренировать модель."
      ]
    },
    {
      "cell_type": "code",
      "execution_count": 12,
      "metadata": {
        "id": "PIc22kLf4SAP"
      },
      "outputs": [],
      "source": [
        "counter=0\n",
        "for imagePath in imagePaths:\n",
        "    label = imagePath.split(os.path.sep)[-2]\n",
        "    label = conv_label(label)\n",
        "    pil_img = pil_image(imagePath)\n",
        "    #imshow(pil_img)\n",
        "    \n",
        "    # Adding original image\n",
        "    org_img = img_to_array(pil_img)\n",
        "    #print(org_img.shape)\n",
        "    data.append(org_img)\n",
        "    labels.append(label)\n",
        "    \n",
        "    augument=[\"noise\",\"affine\",\"gradient\"]\n",
        "    for l in range(0,len(augument)):\n",
        "    \n",
        "        a=itertools.combinations(augument, l+1)\n",
        "\n",
        "        for i in list(a): \n",
        "            combinations=list(i)\n",
        "            # print(len(combinations))\n",
        "            temp_img = pil_img\n",
        "            for j in combinations:\n",
        "            \n",
        "                if j == 'noise':\n",
        "                    # Adding Noise image\n",
        "                    temp_img = noise_image(temp_img)\n",
        "                    \n",
        "                elif j == 'blur':\n",
        "                    # Adding Blur image\n",
        "                    temp_img = blur_image(temp_img)\n",
        "                    #imshow(blur_img)\n",
        "                    \n",
        "    \n",
        "                elif j == 'affine':\n",
        "                    open_cv_affine = np.array(pil_img)\n",
        "                    # Adding affine rotation image\n",
        "                    temp_img = affine_rotation(open_cv_affine)\n",
        "\n",
        "                elif j == 'gradient':\n",
        "                    open_cv_gradient = np.array(pil_img)\n",
        "                    # Adding gradient image\n",
        "                    temp_img = gradient_fill(open_cv_gradient)\n",
        "  \n",
        "            temp_img = img_to_array(temp_img)\n",
        "            data.append(temp_img)\n",
        "            labels.append(label)"
      ]
    },
    {
      "attachments": {},
      "cell_type": "markdown",
      "metadata": {},
      "source": [
        "Разобьём датасет на тренировочную и тестовую части"
      ]
    },
    {
      "cell_type": "code",
      "execution_count": null,
      "metadata": {
        "colab": {
          "base_uri": "https://localhost:8080/"
        },
        "id": "cFpIsgdHndit",
        "outputId": "8f47e890-6b61-4f17-de21-24ebd4436dff"
      },
      "outputs": [
        {
          "name": "stdout",
          "output_type": "stream",
          "text": [
            "Success\n"
          ]
        }
      ],
      "source": [
        "data = np.asarray(data, dtype=\"float\") / 255.0\n",
        "labels = np.array(labels)\n",
        "print(\"Success\")\n",
        "# 75 - тренировка\n",
        "# 25 - тест\n",
        "(trainX, testX, trainY, testY) = train_test_split(data,\n",
        "\tlabels, test_size=0.25, random_state=42)"
      ]
    },
    {
      "cell_type": "code",
      "execution_count": null,
      "metadata": {
        "id": "1NQr6OCQ_3qO"
      },
      "outputs": [],
      "source": [
        "# convert the labels from integers to vectors\n",
        "trainY = to_categorical(trainY, num_classes=2)\n",
        "testY = to_categorical(testY, num_classes=2)"
      ]
    },
    {
      "cell_type": "code",
      "execution_count": null,
      "metadata": {
        "id": "9omeq7fqryGW"
      },
      "outputs": [],
      "source": [
        "aug = ImageDataGenerator(rotation_range=30, width_shift_range=0.1,height_shift_range=0.1, shear_range=0.2, zoom_range=0.2,horizontal_flip=True)"
      ]
    },
    {
      "cell_type": "code",
      "execution_count": null,
      "metadata": {
        "id": "-vWihISP8kHV"
      },
      "outputs": [],
      "source": [
        "K.set_image_data_format('channels_last')\n"
      ]
    },
    {
      "attachments": {},
      "cell_type": "markdown",
      "metadata": {
        "id": "z3BCYe6751qj"
      },
      "source": [
        "Создадим модель из блоков Keras. Архитектура модели предложена Adobe, Google и называется DeepFont. С помощью этой архитектуры можно различать больше двух тысяч шрифтов, главное - обучить. \n",
        "\n",
        "\n",
        "![image.png](data:image/png;base64,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)"
      ]
    },
    {
      "attachments": {},
      "cell_type": "markdown",
      "metadata": {
        "id": "al2LPQN26Hmo"
      },
      "source": [
        "В отличие от других сверточных нейронных сетей для классификации изображений, эта организована иначе. Она состоит из двух подсетей:\n",
        "\n",
        "* **Подсеть низкого уровня**: Обучается на основе комбинированного набора синтетических и реальных данных.\n",
        "* **Подсеть высокого уровня** : Обучает глубокий классификатор на основе низкоуровневых характеристик.\n",
        "  Для получения более подробной информации и разъяснений: (https://arxiv.org/pdf/1507.03196v1.pdf)"
      ]
    },
    {
      "cell_type": "code",
      "execution_count": 13,
      "metadata": {
        "id": "DpDdwzQguqWR"
      },
      "outputs": [],
      "source": [
        "def create_model():\n",
        "  model=Sequential()\n",
        "\n",
        "  # Cu Layers \n",
        "  model.add(Conv2D(64, kernel_size=(48, 48), activation='relu', input_shape=(105,105,1)))\n",
        "  model.add(BatchNormalization())\n",
        "  model.add(MaxPooling2D(pool_size=(2, 2)))\n",
        "\n",
        "  model.add(Conv2D(128, kernel_size=(24, 24), activation='relu'))\n",
        "  model.add(BatchNormalization())\n",
        "  model.add(MaxPooling2D(pool_size=(2, 2)))\n",
        "\n",
        "  model.add(Conv2DTranspose(128, (24,24), strides = (2,2), activation = 'relu', padding='same', kernel_initializer='uniform'))\n",
        "  model.add(UpSampling2D(size=(2, 2)))\n",
        "\n",
        "  model.add(Conv2DTranspose(64, (12,12), strides = (2,2), activation = 'relu', padding='same', kernel_initializer='uniform'))\n",
        "  model.add(UpSampling2D(size=(2, 2)))\n",
        "\n",
        "  #Cs Layers\n",
        "  model.add(Conv2D(256, kernel_size=(12, 12), activation='relu'))\n",
        "\n",
        "  model.add(Conv2D(256, kernel_size=(12, 12), activation='relu'))\n",
        "\n",
        "  model.add(Conv2D(256, kernel_size=(12, 12), activation='relu'))\n",
        "\n",
        "  model.add(Flatten())\n",
        "\n",
        "  model.add(Dense(4096, activation='relu'))\n",
        "\n",
        "  model.add(Dropout(0.5))\n",
        "\n",
        "  model.add(Dense(4096,activation='relu'))\n",
        "\n",
        "  model.add(Dropout(0.5))\n",
        "\n",
        "  model.add(Dense(2383,activation='relu'))\n",
        "\n",
        "  model.add(Dense(2, activation='softmax'))\n",
        " \n",
        "  return model"
      ]
    },
    {
      "cell_type": "code",
      "execution_count": null,
      "metadata": {
        "colab": {
          "base_uri": "https://localhost:8080/"
        },
        "id": "LSUkpdoI2J-M",
        "outputId": "fb795ffa-cb80-4646-fb3f-00ba93bd287b"
      },
      "outputs": [
        {
          "name": "stderr",
          "output_type": "stream",
          "text": [
            "/usr/local/lib/python3.10/dist-packages/keras/optimizers/legacy/gradient_descent.py:114: UserWarning: The `lr` argument is deprecated, use `learning_rate` instead.\n",
            "  super().__init__(name, **kwargs)\n"
          ]
        }
      ],
      "source": [
        "batch_size = 128\n",
        "epochs = 50\n",
        "model= create_model()\n",
        "sgd = optimizers.SGD(learning_rate=0.01, decay=1e-6, momentum=0.9, nesterov=True)\n",
        "model.compile(loss='mean_squared_error', optimizer=sgd, metrics=['accuracy'])"
      ]
    },
    {
      "cell_type": "code",
      "execution_count": null,
      "metadata": {
        "id": "IH8DclwlLkOw"
      },
      "outputs": [],
      "source": [
        "early_stopping=callbacks.EarlyStopping(monitor='val_loss', min_delta=0, patience=10, verbose=0, mode='min')\n",
        "\n",
        "filepath=\"top_model.h5\"\n",
        "\n",
        "checkpoint = callbacks.ModelCheckpoint(filepath, monitor='val_loss', verbose=1, save_best_only=True, mode='min')\n",
        "\n",
        "callbacks_list = [early_stopping,checkpoint]"
      ]
    },
    {
      "cell_type": "code",
      "execution_count": null,
      "metadata": {
        "id": "ZfjlSwNt73XO"
      },
      "outputs": [],
      "source": [
        "model.fit(trainX, trainY,shuffle=True,\n",
        "          batch_size=batch_size,\n",
        "          epochs=epochs,\n",
        "          verbose=1,\n",
        "          validation_data=(testX, testY),callbacks=callbacks_list)"
      ]
    },
    {
      "attachments": {},
      "cell_type": "markdown",
      "metadata": {
        "id": "sAIf5s3P7rOI"
      },
      "source": [
        "training process is taking a lot of time, so we will use the model which is pretrained already."
      ]
    },
    {
      "cell_type": "code",
      "execution_count": 15,
      "metadata": {
        "id": "9oDaZS8LuWem"
      },
      "outputs": [
        {
          "name": "stderr",
          "output_type": "stream",
          "text": [
            "2023-06-01 21:00:48.369027: W tensorflow/tsl/framework/cpu_allocator_impl.cc:83] Allocation of 18874368 exceeds 10% of free system memory.\n",
            "2023-06-01 21:00:48.380815: W tensorflow/tsl/framework/cpu_allocator_impl.cc:83] Allocation of 18874368 exceeds 10% of free system memory.\n",
            "2023-06-01 21:00:48.388228: W tensorflow/tsl/framework/cpu_allocator_impl.cc:83] Allocation of 18874368 exceeds 10% of free system memory.\n",
            "2023-06-01 21:00:48.461644: W tensorflow/tsl/framework/cpu_allocator_impl.cc:83] Allocation of 37748736 exceeds 10% of free system memory.\n",
            "2023-06-01 21:00:48.488840: W tensorflow/tsl/framework/cpu_allocator_impl.cc:83] Allocation of 37748736 exceeds 10% of free system memory.\n"
          ]
        }
      ],
      "source": [
        "from keras.models import load_model\n",
        "model = load_model('top_model.h5')"
      ]
    },
    {
      "cell_type": "code",
      "execution_count": 1,
      "metadata": {
        "colab": {
          "base_uri": "https://localhost:8080/"
        },
        "id": "ltfB09zptlNN",
        "outputId": "02b624fe-7e05-4141-85a9-f76a24d0e3c5"
      },
      "outputs": [
        {
          "ename": "NameError",
          "evalue": "name 'model' is not defined",
          "output_type": "error",
          "traceback": [
            "\u001b[0;31m---------------------------------------------------------------------------\u001b[0m",
            "\u001b[0;31mNameError\u001b[0m                                 Traceback (most recent call last)",
            "Cell \u001b[0;32mIn[1], line 1\u001b[0m\n\u001b[0;32m----> 1\u001b[0m score \u001b[39m=\u001b[39m model\u001b[39m.\u001b[39mevaluate(testX, testY, verbose\u001b[39m=\u001b[39m\u001b[39m0\u001b[39m)\n\u001b[1;32m      2\u001b[0m \u001b[39mprint\u001b[39m(\u001b[39m'\u001b[39m\u001b[39mTest loss:\u001b[39m\u001b[39m'\u001b[39m, score[\u001b[39m0\u001b[39m])\n\u001b[1;32m      3\u001b[0m \u001b[39mprint\u001b[39m(\u001b[39m'\u001b[39m\u001b[39mTest accuracy:\u001b[39m\u001b[39m'\u001b[39m, score[\u001b[39m1\u001b[39m])\n",
            "\u001b[0;31mNameError\u001b[0m: name 'model' is not defined"
          ]
        }
      ],
      "source": [
        "score = model.evaluate(testX, testY, verbose=0)\n",
        "print('Test loss:', score[0])\n",
        "print('Test accuracy:', score[1])"
      ]
    },
    {
      "attachments": {},
      "cell_type": "markdown",
      "metadata": {
        "id": "AdGp7aGr72et"
      },
      "source": [
        "Время тестов! введите название шрифта в `test_font`, и пример текста в `test_text`."
      ]
    },
    {
      "cell_type": "code",
      "execution_count": null,
      "metadata": {
        "colab": {
          "base_uri": "https://localhost:8080/",
          "height": 451
        },
        "id": "ov6w2Kmdv4dV",
        "outputId": "342a47d7-e972-4240-9dfe-5a3179070d9c"
      },
      "outputs": [
        {
          "name": "stdout",
          "output_type": "stream",
          "text": [
            "1/1 [==============================] - 0s 53ms/step\n"
          ]
        },
        {
          "data": {
            "image/png": "[encoded data removed]",
            "text/plain": [
              "<Figure size 640x480 with 1 Axes>"
            ]
          },
          "metadata": {},
          "output_type": "display_data"
        }
      ],
      "source": [
        "test_font = 'times_new_roman'\n",
        "test_text = 'wanna play'\n",
        "\n",
        "img_gen(test_font, test_text)\n",
        "img_path=f\"font_imgs/{test_font}/{test_text}.jpg\"\n",
        "pil_im =PIL.Image.open(img_path).convert('L')\n",
        "# pil_im=blur_image(pil_im)\n",
        "org_img = img_to_array(pil_im)\n",
        "# plt.imshow(org_img, cmap='gray');\n",
        "\n",
        "data=[]\n",
        "data.append(org_img)\n",
        "data = np.asarray(data, dtype=\"float\") / 255.0\n",
        "y = model.predict(data)\n",
        "pred = y[0].argmax()\n",
        "\n",
        "label = rev_conv_label(y[0].argmax())\n",
        "fig, ax = plt.subplots(1)\n",
        "ax.imshow(pil_im, interpolation='nearest', cmap=cm.gray)\n",
        "ax.text(5, 5, label , bbox={'facecolor': 'white', 'pad': 10})\n",
        "plt.show()\n",
        "\n"
      ]
    },
    {
      "cell_type": "code",
      "execution_count": null,
      "metadata": {
        "colab": {
          "base_uri": "https://localhost:8080/"
        },
        "id": "FxixEfAcm3K9",
        "outputId": "d36acb41-eaf7-4dfb-b58a-e6c5a185048d"
      },
      "outputs": [
        {
          "data": {
            "text/plain": [
              "array([[3.5716255e-06, 9.9999642e-01]], dtype=float32)"
            ]
          },
          "execution_count": 63,
          "metadata": {},
          "output_type": "execute_result"
        }
      ],
      "source": [
        "y"
      ]
    },
    {
      "cell_type": "code",
      "execution_count": null,
      "metadata": {
        "id": "GAACyiE41IjK"
      },
      "outputs": [],
      "source": []
    }
  ],
  "metadata": {
    "accelerator": "GPU",
    "colab": {
      "provenance": []
    },
    "kernelspec": {
      "display_name": "base",
      "language": "python",
      "name": "python3"
    },
    "language_info": {
      "codemirror_mode": {
        "name": "ipython",
        "version": 3
      },
      "file_extension": ".py",
      "mimetype": "text/x-python",
      "name": "python",
      "nbconvert_exporter": "python",
      "pygments_lexer": "ipython3",
      "version": "3.10.9"
    }
  },
  "nbformat": 4,
  "nbformat_minor": 0
}
